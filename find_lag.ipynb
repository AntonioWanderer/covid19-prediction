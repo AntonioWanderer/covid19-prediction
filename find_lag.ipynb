{
 "cells": [
  {
   "cell_type": "code",
   "execution_count": 1,
   "id": "51396bd2",
   "metadata": {},
   "outputs": [],
   "source": [
    "import pandas as pd\n",
    "import itertools\n",
    "from scipy.signal import savgol_filter\n",
    "from tqdm.notebook import tqdm\n",
    "import json\n",
    "from collections import defaultdict\n",
    "import pickle"
   ]
  },
  {
   "cell_type": "code",
   "execution_count": 2,
   "id": "77a86983",
   "metadata": {},
   "outputs": [],
   "source": [
    "df = pd.read_parquet(\"tmp/data.parquet\")"
   ]
  },
  {
   "cell_type": "code",
   "execution_count": 3,
   "id": "f65384a6",
   "metadata": {},
   "outputs": [],
   "source": [
    "countries = df.Country_Region.unique().tolist()"
   ]
  },
  {
   "cell_type": "code",
   "execution_count": 4,
   "id": "2f5878a3",
   "metadata": {},
   "outputs": [
    {
     "data": {
      "text/plain": [
       "['China', 'Romania', 'Kuwait', 'Bahrain', 'Russia']"
      ]
     },
     "execution_count": 4,
     "metadata": {},
     "output_type": "execute_result"
    }
   ],
   "source": [
    "countries[:5]"
   ]
  },
  {
   "cell_type": "code",
   "execution_count": 5,
   "id": "76174d91",
   "metadata": {},
   "outputs": [
    {
     "data": {
      "text/html": [
       "<div>\n",
       "<style scoped>\n",
       "    .dataframe tbody tr th:only-of-type {\n",
       "        vertical-align: middle;\n",
       "    }\n",
       "\n",
       "    .dataframe tbody tr th {\n",
       "        vertical-align: top;\n",
       "    }\n",
       "\n",
       "    .dataframe thead th {\n",
       "        text-align: right;\n",
       "    }\n",
       "</style>\n",
       "<table border=\"1\" class=\"dataframe\">\n",
       "  <thead>\n",
       "    <tr style=\"text-align: right;\">\n",
       "      <th></th>\n",
       "      <th>Country_Region</th>\n",
       "      <th>Confirmed</th>\n",
       "    </tr>\n",
       "    <tr>\n",
       "      <th>Last_Update</th>\n",
       "      <th></th>\n",
       "      <th></th>\n",
       "    </tr>\n",
       "  </thead>\n",
       "  <tbody>\n",
       "    <tr>\n",
       "      <th>2020-02-23</th>\n",
       "      <td>China</td>\n",
       "      <td>703.0</td>\n",
       "    </tr>\n",
       "    <tr>\n",
       "      <th>2020-03-08</th>\n",
       "      <td>China</td>\n",
       "      <td>20632.0</td>\n",
       "    </tr>\n",
       "    <tr>\n",
       "      <th>2020-03-12</th>\n",
       "      <td>China</td>\n",
       "      <td>279.0</td>\n",
       "    </tr>\n",
       "    <tr>\n",
       "      <th>2020-03-13</th>\n",
       "      <td>China</td>\n",
       "      <td>266.0</td>\n",
       "    </tr>\n",
       "    <tr>\n",
       "      <th>2020-03-14</th>\n",
       "      <td>China</td>\n",
       "      <td>12471.0</td>\n",
       "    </tr>\n",
       "  </tbody>\n",
       "</table>\n",
       "</div>"
      ],
      "text/plain": [
       "            Country_Region  Confirmed\n",
       "Last_Update                          \n",
       "2020-02-23           China      703.0\n",
       "2020-03-08           China    20632.0\n",
       "2020-03-12           China      279.0\n",
       "2020-03-13           China      266.0\n",
       "2020-03-14           China    12471.0"
      ]
     },
     "execution_count": 5,
     "metadata": {},
     "output_type": "execute_result"
    }
   ],
   "source": [
    "df.head()"
   ]
  },
  {
   "cell_type": "code",
   "execution_count": 17,
   "id": "c9b9af19",
   "metadata": {},
   "outputs": [],
   "source": [
    "from consts import predict_days\n",
    "cache = {}\n",
    "    \n",
    "def get_new_cases(d, c):\n",
    "    \"\"\"Взятие новых кейсов из датафрейма d для страны c и их сглаживание фильтром\"\"\"\n",
    "    c1 = cache.get(c)\n",
    "    if not c1 is None:\n",
    "        return c1\n",
    "    \n",
    "    new_v = d[d[\"Country_Region\"] == c][\"Confirmed\"]\n",
    "    c1 = (new_v - new_v.shift(1)).dropna()\n",
    "    try:\n",
    "        f = savgol_filter(c1.to_numpy(), 51, 2)\n",
    "        c1 = pd.Series(f, index=new_v.index[:-1])\n",
    "        if predict_days > 1:\n",
    "            c2 = c1.iloc[:-predict_days]\n",
    "        cache[c] = c2\n",
    "        return c2, c1.iloc[-predict_days:]\n",
    "    except ValueError as e:\n",
    "        return pd.Series(), pd.Series()"
   ]
  },
  {
   "cell_type": "code",
   "execution_count": 18,
   "id": "890cd66e",
   "metadata": {},
   "outputs": [],
   "source": [
    "new_cases = {c: get_new_cases(df, c) for c in countries}"
   ]
  },
  {
   "cell_type": "code",
   "execution_count": 8,
   "id": "710223e6",
   "metadata": {},
   "outputs": [],
   "source": [
    "pairs = list(itertools.combinations(countries, 2))"
   ]
  },
  {
   "cell_type": "code",
   "execution_count": 9,
   "id": "35761934",
   "metadata": {},
   "outputs": [
    {
     "data": {
      "application/vnd.jupyter.widget-view+json": {
       "model_id": "158c922722dc426ea8f1ae7f0ca22cbf",
       "version_major": 2,
       "version_minor": 0
      },
      "text/plain": [
       "  0%|          | 0/7021 [00:00<?, ?it/s]"
      ]
     },
     "metadata": {},
     "output_type": "display_data"
    }
   ],
   "source": [
    "result = defaultdict(dict)\n",
    "threshold = 0.4\n",
    "for c_one, c_two in tqdm(pairs):\n",
    "    c1, _ = new_cases[c_one]\n",
    "    c2, _ = new_cases[c_two]\n",
    "    values = []\n",
    "    for i in range(-30, 30, 1):\n",
    "        values.append((c1.shift(i).corr(c2), i))\n",
    "    similarity, lag = max(values, key=lambda x: x[0])\n",
    "    if (lag < 0):\n",
    "        c_two, c_one = c_one, c_two\n",
    "    if (similarity > threshold) and (lag not in [-30, 30, 0]):\n",
    "        result[c_two][c_one] = {'similarity': similarity, 'lag': lag}"
   ]
  },
  {
   "cell_type": "code",
   "execution_count": 13,
   "id": "306da218",
   "metadata": {},
   "outputs": [],
   "source": [
    "#\n",
    "with open('tmp/lags.json', 'w') as f:\n",
    "    json.dump(result, f, sort_keys=True, indent='  ')"
   ]
  },
  {
   "cell_type": "code",
   "execution_count": 14,
   "id": "dd1e3de2",
   "metadata": {},
   "outputs": [],
   "source": [
    "with open('tmp/cases.json', 'wb') as f:\n",
    "    pickle.dump(new_cases, f)"
   ]
  },
  {
   "cell_type": "code",
   "execution_count": 12,
   "id": "86840293",
   "metadata": {},
   "outputs": [],
   "source": [
    "#with open('tmp/cases.json', 'rb') as f:\n",
    "#    w = pickle.load(f)"
   ]
  },
  {
   "cell_type": "code",
   "execution_count": null,
   "id": "768faa6a",
   "metadata": {},
   "outputs": [],
   "source": []
  }
 ],
 "metadata": {
  "kernelspec": {
   "display_name": "Python 3 (ipykernel)",
   "language": "python",
   "name": "python3"
  },
  "language_info": {
   "codemirror_mode": {
    "name": "ipython",
    "version": 3
   },
   "file_extension": ".py",
   "mimetype": "text/x-python",
   "name": "python",
   "nbconvert_exporter": "python",
   "pygments_lexer": "ipython3",
   "version": "3.9.7"
  },
  "varInspector": {
   "cols": {
    "lenName": 16,
    "lenType": 16,
    "lenVar": 40
   },
   "kernels_config": {
    "python": {
     "delete_cmd_postfix": "",
     "delete_cmd_prefix": "del ",
     "library": "var_list.py",
     "varRefreshCmd": "print(var_dic_list())"
    },
    "r": {
     "delete_cmd_postfix": ") ",
     "delete_cmd_prefix": "rm(",
     "library": "var_list.r",
     "varRefreshCmd": "cat(var_dic_list()) "
    }
   },
   "types_to_exclude": [
    "module",
    "function",
    "builtin_function_or_method",
    "instance",
    "_Feature"
   ],
   "window_display": false
  }
 },
 "nbformat": 4,
 "nbformat_minor": 5
}
