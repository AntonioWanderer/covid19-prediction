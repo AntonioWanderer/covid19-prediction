{
 "cells": [
  {
   "cell_type": "code",
   "execution_count": 1,
   "id": "d9663d19",
   "metadata": {},
   "outputs": [],
   "source": [
    "import pandas as pd\n",
    "from pathlib import Path"
   ]
  },
  {
   "cell_type": "code",
   "execution_count": 2,
   "id": "cc4733a5",
   "metadata": {},
   "outputs": [],
   "source": [
    "path = \"COVID-19/csse_covid_19_data/csse_covid_19_daily_reports\"\n",
    "all_files = Path(path).glob(\"*.csv\") \n",
    "\n",
    "df = pd.concat(map(pd.read_csv, all_files))"
   ]
  },
  {
   "cell_type": "code",
   "execution_count": 3,
   "id": "72c25be2",
   "metadata": {},
   "outputs": [
    {
     "data": {
      "text/plain": [
       "(2637010, 21)"
      ]
     },
     "execution_count": 3,
     "metadata": {},
     "output_type": "execute_result"
    }
   ],
   "source": [
    "df.shape"
   ]
  },
  {
   "cell_type": "code",
   "execution_count": 4,
   "id": "c61f1387",
   "metadata": {
    "scrolled": true
   },
   "outputs": [
    {
     "data": {
      "text/html": [
       "<div>\n",
       "<style scoped>\n",
       "    .dataframe tbody tr th:only-of-type {\n",
       "        vertical-align: middle;\n",
       "    }\n",
       "\n",
       "    .dataframe tbody tr th {\n",
       "        vertical-align: top;\n",
       "    }\n",
       "\n",
       "    .dataframe thead th {\n",
       "        text-align: right;\n",
       "    }\n",
       "</style>\n",
       "<table border=\"1\" class=\"dataframe\">\n",
       "  <thead>\n",
       "    <tr style=\"text-align: right;\">\n",
       "      <th></th>\n",
       "      <th>FIPS</th>\n",
       "      <th>Admin2</th>\n",
       "      <th>Province_State</th>\n",
       "      <th>Country_Region</th>\n",
       "      <th>Last_Update</th>\n",
       "      <th>Lat</th>\n",
       "      <th>Long_</th>\n",
       "      <th>Confirmed</th>\n",
       "      <th>Deaths</th>\n",
       "      <th>Recovered</th>\n",
       "      <th>...</th>\n",
       "      <th>Combined_Key</th>\n",
       "      <th>Incident_Rate</th>\n",
       "      <th>Case_Fatality_Ratio</th>\n",
       "      <th>Incidence_Rate</th>\n",
       "      <th>Case-Fatality_Ratio</th>\n",
       "      <th>Province/State</th>\n",
       "      <th>Country/Region</th>\n",
       "      <th>Last Update</th>\n",
       "      <th>Latitude</th>\n",
       "      <th>Longitude</th>\n",
       "    </tr>\n",
       "  </thead>\n",
       "  <tbody>\n",
       "    <tr>\n",
       "      <th>0</th>\n",
       "      <td>NaN</td>\n",
       "      <td>NaN</td>\n",
       "      <td>NaN</td>\n",
       "      <td>Afghanistan</td>\n",
       "      <td>2021-05-06 04:20:38</td>\n",
       "      <td>33.93911</td>\n",
       "      <td>67.709953</td>\n",
       "      <td>60797.0</td>\n",
       "      <td>2654.0</td>\n",
       "      <td>53750.0</td>\n",
       "      <td>...</td>\n",
       "      <td>Afghanistan</td>\n",
       "      <td>156.176704</td>\n",
       "      <td>4.365347</td>\n",
       "      <td>NaN</td>\n",
       "      <td>NaN</td>\n",
       "      <td>NaN</td>\n",
       "      <td>NaN</td>\n",
       "      <td>NaN</td>\n",
       "      <td>NaN</td>\n",
       "      <td>NaN</td>\n",
       "    </tr>\n",
       "    <tr>\n",
       "      <th>1</th>\n",
       "      <td>NaN</td>\n",
       "      <td>NaN</td>\n",
       "      <td>NaN</td>\n",
       "      <td>Albania</td>\n",
       "      <td>2021-05-06 04:20:38</td>\n",
       "      <td>41.15330</td>\n",
       "      <td>20.168300</td>\n",
       "      <td>131419.0</td>\n",
       "      <td>2403.0</td>\n",
       "      <td>113468.0</td>\n",
       "      <td>...</td>\n",
       "      <td>Albania</td>\n",
       "      <td>4566.648134</td>\n",
       "      <td>1.828503</td>\n",
       "      <td>NaN</td>\n",
       "      <td>NaN</td>\n",
       "      <td>NaN</td>\n",
       "      <td>NaN</td>\n",
       "      <td>NaN</td>\n",
       "      <td>NaN</td>\n",
       "      <td>NaN</td>\n",
       "    </tr>\n",
       "    <tr>\n",
       "      <th>2</th>\n",
       "      <td>NaN</td>\n",
       "      <td>NaN</td>\n",
       "      <td>NaN</td>\n",
       "      <td>Algeria</td>\n",
       "      <td>2021-05-06 04:20:38</td>\n",
       "      <td>28.03390</td>\n",
       "      <td>1.659600</td>\n",
       "      <td>123272.0</td>\n",
       "      <td>3299.0</td>\n",
       "      <td>85869.0</td>\n",
       "      <td>...</td>\n",
       "      <td>Algeria</td>\n",
       "      <td>281.115320</td>\n",
       "      <td>2.676196</td>\n",
       "      <td>NaN</td>\n",
       "      <td>NaN</td>\n",
       "      <td>NaN</td>\n",
       "      <td>NaN</td>\n",
       "      <td>NaN</td>\n",
       "      <td>NaN</td>\n",
       "      <td>NaN</td>\n",
       "    </tr>\n",
       "    <tr>\n",
       "      <th>3</th>\n",
       "      <td>NaN</td>\n",
       "      <td>NaN</td>\n",
       "      <td>NaN</td>\n",
       "      <td>Andorra</td>\n",
       "      <td>2021-05-06 04:20:38</td>\n",
       "      <td>42.50630</td>\n",
       "      <td>1.521800</td>\n",
       "      <td>13340.0</td>\n",
       "      <td>127.0</td>\n",
       "      <td>12884.0</td>\n",
       "      <td>...</td>\n",
       "      <td>Andorra</td>\n",
       "      <td>17265.255937</td>\n",
       "      <td>0.952024</td>\n",
       "      <td>NaN</td>\n",
       "      <td>NaN</td>\n",
       "      <td>NaN</td>\n",
       "      <td>NaN</td>\n",
       "      <td>NaN</td>\n",
       "      <td>NaN</td>\n",
       "      <td>NaN</td>\n",
       "    </tr>\n",
       "    <tr>\n",
       "      <th>4</th>\n",
       "      <td>NaN</td>\n",
       "      <td>NaN</td>\n",
       "      <td>NaN</td>\n",
       "      <td>Angola</td>\n",
       "      <td>2021-05-06 04:20:38</td>\n",
       "      <td>-11.20270</td>\n",
       "      <td>17.873900</td>\n",
       "      <td>27529.0</td>\n",
       "      <td>618.0</td>\n",
       "      <td>24492.0</td>\n",
       "      <td>...</td>\n",
       "      <td>Angola</td>\n",
       "      <td>83.760651</td>\n",
       "      <td>2.244905</td>\n",
       "      <td>NaN</td>\n",
       "      <td>NaN</td>\n",
       "      <td>NaN</td>\n",
       "      <td>NaN</td>\n",
       "      <td>NaN</td>\n",
       "      <td>NaN</td>\n",
       "      <td>NaN</td>\n",
       "    </tr>\n",
       "  </tbody>\n",
       "</table>\n",
       "<p>5 rows × 21 columns</p>\n",
       "</div>"
      ],
      "text/plain": [
       "   FIPS Admin2 Province_State Country_Region          Last_Update       Lat  \\\n",
       "0   NaN    NaN            NaN    Afghanistan  2021-05-06 04:20:38  33.93911   \n",
       "1   NaN    NaN            NaN        Albania  2021-05-06 04:20:38  41.15330   \n",
       "2   NaN    NaN            NaN        Algeria  2021-05-06 04:20:38  28.03390   \n",
       "3   NaN    NaN            NaN        Andorra  2021-05-06 04:20:38  42.50630   \n",
       "4   NaN    NaN            NaN         Angola  2021-05-06 04:20:38 -11.20270   \n",
       "\n",
       "       Long_  Confirmed  Deaths  Recovered  ...  Combined_Key Incident_Rate  \\\n",
       "0  67.709953    60797.0  2654.0    53750.0  ...   Afghanistan    156.176704   \n",
       "1  20.168300   131419.0  2403.0   113468.0  ...       Albania   4566.648134   \n",
       "2   1.659600   123272.0  3299.0    85869.0  ...       Algeria    281.115320   \n",
       "3   1.521800    13340.0   127.0    12884.0  ...       Andorra  17265.255937   \n",
       "4  17.873900    27529.0   618.0    24492.0  ...        Angola     83.760651   \n",
       "\n",
       "   Case_Fatality_Ratio  Incidence_Rate  Case-Fatality_Ratio  Province/State  \\\n",
       "0             4.365347             NaN                  NaN             NaN   \n",
       "1             1.828503             NaN                  NaN             NaN   \n",
       "2             2.676196             NaN                  NaN             NaN   \n",
       "3             0.952024             NaN                  NaN             NaN   \n",
       "4             2.244905             NaN                  NaN             NaN   \n",
       "\n",
       "  Country/Region Last Update Latitude  Longitude  \n",
       "0            NaN         NaN      NaN        NaN  \n",
       "1            NaN         NaN      NaN        NaN  \n",
       "2            NaN         NaN      NaN        NaN  \n",
       "3            NaN         NaN      NaN        NaN  \n",
       "4            NaN         NaN      NaN        NaN  \n",
       "\n",
       "[5 rows x 21 columns]"
      ]
     },
     "execution_count": 4,
     "metadata": {},
     "output_type": "execute_result"
    }
   ],
   "source": [
    "df.head()"
   ]
  },
  {
   "cell_type": "code",
   "execution_count": 5,
   "id": "b353dca7",
   "metadata": {},
   "outputs": [],
   "source": [
    "def remove_small_countries(df):\n",
    "    countries = df.groupby(\"Country_Region\").last().query('Confirmed > 100000').index.to_list()\n",
    "    return df[df.Country_Region.isin(countries)]"
   ]
  },
  {
   "cell_type": "code",
   "execution_count": 6,
   "id": "1a22aab6",
   "metadata": {},
   "outputs": [],
   "source": [
    "def report_shape(df):\n",
    "    print(df.shape)\n",
    "    return df"
   ]
  },
  {
   "cell_type": "code",
   "execution_count": 7,
   "id": "943bd635",
   "metadata": {},
   "outputs": [
    {
     "name": "stdout",
     "output_type": "stream",
     "text": [
      "(80185, 2)\n"
     ]
    }
   ],
   "source": [
    "(df\n",
    " .assign(Last_Update = pd.to_datetime(df[\"Last_Update\"]).dt.date)\n",
    " .loc[:, [\"Country_Region\", \"Last_Update\", \"Confirmed\"]]\n",
    " .dropna()\n",
    " .groupby([\"Country_Region\", \"Last_Update\"])\n",
    " .sum()\n",
    " .reset_index()\n",
    " .set_index(\"Last_Update\")\n",
    " .sort_index()\n",
    " .pipe(remove_small_countries)\n",
    " .pipe(report_shape)\n",
    " .to_parquet(\"tmp/data.parquet\")\n",
    ")"
   ]
  }
 ],
 "metadata": {
  "kernelspec": {
   "display_name": "Python 3",
   "language": "python",
   "name": "python3"
  },
  "language_info": {
   "codemirror_mode": {
    "name": "ipython",
    "version": 3
   },
   "file_extension": ".py",
   "mimetype": "text/x-python",
   "name": "python",
   "nbconvert_exporter": "python",
   "pygments_lexer": "ipython3",
   "version": "3.6.9"
  },
  "varInspector": {
   "cols": {
    "lenName": 16,
    "lenType": 16,
    "lenVar": 40
   },
   "kernels_config": {
    "python": {
     "delete_cmd_postfix": "",
     "delete_cmd_prefix": "del ",
     "library": "var_list.py",
     "varRefreshCmd": "print(var_dic_list())"
    },
    "r": {
     "delete_cmd_postfix": ") ",
     "delete_cmd_prefix": "rm(",
     "library": "var_list.r",
     "varRefreshCmd": "cat(var_dic_list()) "
    }
   },
   "types_to_exclude": [
    "module",
    "function",
    "builtin_function_or_method",
    "instance",
    "_Feature"
   ],
   "window_display": false
  }
 },
 "nbformat": 4,
 "nbformat_minor": 5
}
