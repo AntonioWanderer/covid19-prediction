{
 "cells": [
  {
   "cell_type": "code",
   "execution_count": 60,
   "id": "e9738754",
   "metadata": {},
   "outputs": [],
   "source": [
    "%matplotlib inline"
   ]
  },
  {
   "cell_type": "code",
   "execution_count": 61,
   "id": "2ef8b026",
   "metadata": {},
   "outputs": [],
   "source": [
    "from matplotlib import pyplot as plt\n",
    "import json\n",
    "import pickle\n",
    "import numpy as np\n",
    "from sklearn.metrics import mean_absolute_percentage_error"
   ]
  },
  {
   "cell_type": "code",
   "execution_count": 62,
   "id": "c56ad96b",
   "metadata": {},
   "outputs": [],
   "source": [
    "with open('tmp/cases.json', 'rb') as f:\n",
    "    cases = pickle.load(f)"
   ]
  },
  {
   "cell_type": "code",
   "execution_count": 64,
   "id": "cc8f2cd9",
   "metadata": {},
   "outputs": [],
   "source": [
    "with open('tmp/lags.json', 'r') as f:\n",
    "    lags = json.load(f)"
   ]
  },
  {
   "cell_type": "code",
   "execution_count": 94,
   "id": "d314492b-f5de-4158-8263-347da1b5e4cf",
   "metadata": {},
   "outputs": [],
   "source": [
    "def get_predict(predict_country, lags, predict_days):\n",
    "    predict = np.zeros(predict_days)\n",
    "    weights = 0\n",
    "    mean_predict_country = cases[predict_country][0][-predict_days:].mean()\n",
    "\n",
    "    for country, desc in lags[predict_country].items():\n",
    "        days_lag = -desc[\"lag\"]  # т.к. всегда отрицательная величина\n",
    "        if days_lag <= predict_days:\n",
    "            continue\n",
    "        cases_prev_days = cases[country][0].iloc[-days_lag: -days_lag + predict_days]\n",
    "        coef = (mean_predict_country / cases_prev_days.mean())\n",
    "        weight = np.sqrt(desc[\"similarity\"])\n",
    "        case = cases_prev_days.values * coef * weight\n",
    "        \n",
    "        weights += weight\n",
    "        predict += case\n",
    "    \n",
    "    if weights != 0:\n",
    "        return predict / weights\n",
    "    else:\n",
    "        return predict"
   ]
  },
  {
   "cell_type": "code",
   "execution_count": 86,
   "id": "5e1f738b-6dfb-497b-887c-3cdaf33fe01c",
   "metadata": {},
   "outputs": [
    {
     "data": {
      "text/plain": [
       "array([20642.85015219, 21562.57865241, 23613.59769489, 26157.09257036,\n",
       "       26895.1857587 , 26794.13046658, 27755.51605714, 31546.29012542,\n",
       "       34425.46055149, 37963.44911325, 42339.98941056, 45605.2226334 ,\n",
       "       47744.25341589, 53374.0809947 ])"
      ]
     },
     "execution_count": 86,
     "metadata": {},
     "output_type": "execute_result"
    }
   ],
   "source": [
    "get_predict(\"Russia\", lags, 14)"
   ]
  },
  {
   "cell_type": "code",
   "execution_count": 87,
   "id": "c518d7c0-5ad3-406d-b812-3974cf78eef7",
   "metadata": {},
   "outputs": [
    {
     "data": {
      "text/plain": [
       "array([29374.71372091, 31118.00577861, 32970.34101631, 34931.71943401,\n",
       "       37002.14103172, 39181.60580942, 41470.11376712, 43867.66490482,\n",
       "       46374.25922253, 48989.89672023, 51714.57739794, 54548.30125564,\n",
       "       57491.06829335, 60542.87851106])"
      ]
     },
     "execution_count": 87,
     "metadata": {},
     "output_type": "execute_result"
    }
   ],
   "source": [
    "cases[\"Russia\"][1].values"
   ]
  },
  {
   "cell_type": "code",
   "execution_count": 99,
   "id": "6e4dfeb1-6266-4c3a-b8f2-79e1ef97d948",
   "metadata": {},
   "outputs": [],
   "source": [
    "from consts import predict_days\n",
    "\n",
    "def get_mape():\n",
    "    y_predict = []\n",
    "    y_true = []\n",
    "    for country in lags.keys():\n",
    "        true_values = cases[country][1]\n",
    "        predict = get_predict(country, lags, predict_days)\n",
    "        if any(predict != predict):\n",
    "            continue\n",
    "        y_predict.append(predict)\n",
    "        y_true.append(true_values)\n",
    "        \n",
    "    return mean_absolute_percentage_error(y_true, y_predict)"
   ]
  },
  {
   "cell_type": "code",
   "execution_count": 100,
   "id": "67c9f1a2-4220-4804-b960-2265bb303e74",
   "metadata": {},
   "outputs": [
    {
     "data": {
      "text/plain": [
       "1.1724421665035456"
      ]
     },
     "execution_count": 100,
     "metadata": {},
     "output_type": "execute_result"
    }
   ],
   "source": [
    "get_mape()"
   ]
  },
  {
   "cell_type": "code",
   "execution_count": 18,
   "id": "0bdb06ee-34d9-4897-a5dc-159a0eb9f8e8",
   "metadata": {},
   "outputs": [
    {
     "data": {
      "text/plain": [
       "Last_Update\n",
       "2020-03-22      3628.964057\n",
       "2020-03-23      3764.965112\n",
       "2020-03-24      3891.566959\n",
       "2020-03-25      4008.769598\n",
       "2020-03-26      4116.573028\n",
       "                  ...      \n",
       "2022-01-22    374610.852021\n",
       "2022-01-23    385079.544235\n",
       "2022-01-24    395659.324736\n",
       "2022-01-25    406350.193525\n",
       "2022-01-26    417152.150602\n",
       "Length: 675, dtype: float64"
      ]
     },
     "execution_count": 18,
     "metadata": {},
     "output_type": "execute_result"
    }
   ],
   "source": [
    "cases[\"France\"]"
   ]
  },
  {
   "cell_type": "code",
   "execution_count": 80,
   "id": "02f6ce93",
   "metadata": {},
   "outputs": [],
   "source": [
    "af = cases['Armenia'].iloc[-24: -24+14]*(cases['Russia'][-10:].mean()/cases['Armenia'][-24-10:-24].mean())"
   ]
  },
  {
   "cell_type": "code",
   "execution_count": 81,
   "id": "1138a082",
   "metadata": {},
   "outputs": [
    {
     "data": {
      "image/png": "[encoded data removed]",
      "text/plain": [
       "<Figure size 432x288 with 1 Axes>"
      ]
     },
     "metadata": {
      "needs_background": "light"
     },
     "output_type": "display_data"
    }
   ],
   "source": [
    "plt.plot(af);"
   ]
  },
  {
   "cell_type": "code",
   "execution_count": 88,
   "id": "024d19fd",
   "metadata": {},
   "outputs": [],
   "source": [
    "uf = cases['US'].iloc[-17:-17+14]*(cases['Russia'][-10:].mean()/cases['US'][-17-10:-17].mean())"
   ]
  },
  {
   "cell_type": "code",
   "execution_count": 89,
   "id": "ba3b7176",
   "metadata": {},
   "outputs": [
    {
     "data": {
      "image/png": "[encoded data removed]",
      "text/plain": [
       "<Figure size 432x288 with 1 Axes>"
      ]
     },
     "metadata": {
      "needs_background": "light"
     },
     "output_type": "display_data"
    }
   ],
   "source": [
    "plt.plot(uf);"
   ]
  },
  {
   "cell_type": "code",
   "execution_count": 90,
   "id": "4e947865",
   "metadata": {},
   "outputs": [],
   "source": [
    "#gf = cases['Germany'].iloc[-2-14: -2]*(cases['Russia'].mean()/cases['Germany'].mean())\n",
    "#assert len(gf) >= 14"
   ]
  },
  {
   "cell_type": "code",
   "execution_count": 91,
   "id": "12e35d5a",
   "metadata": {},
   "outputs": [],
   "source": [
    "forecast = (0\n",
    "    #+ gf.values * np.sqrt(0.6761367014891928) \n",
    "    + af.values * np.sqrt(0.4895064042342831)\n",
    "    + uf.values * np.sqrt(0.5496032932977788)\n",
    ")/(np.sqrt(0.4895064042342831) + np.sqrt(0.5496032932977788))"
   ]
  },
  {
   "cell_type": "code",
   "execution_count": 101,
   "id": "08560c08",
   "metadata": {
    "scrolled": true
   },
   "outputs": [
    {
     "data": {
      "image/png": "[encoded data removed]",
      "text/plain": [
       "<Figure size 432x288 with 1 Axes>"
      ]
     },
     "metadata": {
      "needs_background": "light"
     },
     "output_type": "display_data"
    }
   ],
   "source": [
    "#plt.plot(uf);\n",
    "plt.plot(np.hstack([cases['Russia'].values, uf]));"
   ]
  },
  {
   "cell_type": "code",
   "execution_count": 102,
   "id": "cf1f7060",
   "metadata": {},
   "outputs": [
    {
     "data": {
      "text/plain": [
       "Last_Update\n",
       "2022-01-19    40039.351600\n",
       "2022-01-20    42203.454608\n",
       "2022-01-21    44464.827342\n",
       "2022-01-22    46823.469802\n",
       "2022-01-23    49279.381988\n",
       "2022-01-24    51832.563900\n",
       "2022-01-25    54483.015538\n",
       "dtype: float64"
      ]
     },
     "execution_count": 102,
     "metadata": {},
     "output_type": "execute_result"
    }
   ],
   "source": [
    "cases['Russia'][-7:]"
   ]
  },
  {
   "cell_type": "code",
   "execution_count": null,
   "id": "62cbfa0a-4109-429d-a46a-faa0152a8c73",
   "metadata": {},
   "outputs": [],
   "source": []
  }
 ],
 "metadata": {
  "kernelspec": {
   "display_name": "Python 3 (ipykernel)",
   "language": "python",
   "name": "python3"
  },
  "language_info": {
   "codemirror_mode": {
    "name": "ipython",
    "version": 3
   },
   "file_extension": ".py",
   "mimetype": "text/x-python",
   "name": "python",
   "nbconvert_exporter": "python",
   "pygments_lexer": "ipython3",
   "version": "3.9.7"
  },
  "varInspector": {
   "cols": {
    "lenName": 16,
    "lenType": 16,
    "lenVar": 40
   },
   "kernels_config": {
    "python": {
     "delete_cmd_postfix": "",
     "delete_cmd_prefix": "del ",
     "library": "var_list.py",
     "varRefreshCmd": "print(var_dic_list())"
    },
    "r": {
     "delete_cmd_postfix": ") ",
     "delete_cmd_prefix": "rm(",
     "library": "var_list.r",
     "varRefreshCmd": "cat(var_dic_list()) "
    }
   },
   "types_to_exclude": [
    "module",
    "function",
    "builtin_function_or_method",
    "instance",
    "_Feature"
   ],
   "window_display": false
  }
 },
 "nbformat": 4,
 "nbformat_minor": 5
}
